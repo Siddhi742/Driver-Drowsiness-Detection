{
 "cells": [
  {
   "cell_type": "code",
   "execution_count": 2,
   "metadata": {},
   "outputs": [],
   "source": [
    "import os\n",
    "from keras.models import load_model\n",
    "model =load_model(\"SDP1-CNN.model\")\n",
    "\n"
   ]
  },
  {
   "cell_type": "code",
   "execution_count": null,
   "metadata": {},
   "outputs": [
    {
     "name": "stdout",
     "output_type": "stream",
     "text": [
      "./Test\\1.png\n",
      "./Test\\10.jpg\n",
      "./Test\\12.jpg\n",
      "./Test\\15.jpg\n",
      "./Test\\2.png\n",
      "./Test\\3.png\n",
      "./Test\\4.png\n",
      "./Test\\5.png\n",
      "./Test\\7.png\n",
      "./Test\\8.png\n"
     ]
    }
   ],
   "source": [
    "import cv2\n",
    "import tensorflow as tf\n",
    "\n",
    "CATEGORIES = [\"close_look\", \"forward_look\"]\n",
    "\n",
    "\n",
    "def detect(filepath):\n",
    "    IMG_SIZE = 100\n",
    "    img_array = cv2.imread(filepath, cv2.IMREAD_GRAYSCALE)\n",
    "    new_array = cv2.resize(img_array, (IMG_SIZE, IMG_SIZE))\n",
    "    return new_array.reshape(-1, IMG_SIZE, IMG_SIZE, 1)\n",
    "\n",
    "''''model = tf.keras.models.load_model(\"SDP1-CNN.model\")\n",
    "path = 'Test/5.png'\n",
    "prediction = model.predict([detect(path)])\n",
    "\n",
    "img = cv2.imread(path)\n",
    "img = cv2.resize(img,(500,500))\n",
    "result = (CATEGORIES[int(prediction[0][0])])\n",
    "final = cv2.putText(img, result , (25,50) ,cv2.FONT_HERSHEY_SIMPLEX ,   1, (255, 255,255) , 2) \n",
    "cv2.imshow('Result',final)\n",
    "\n",
    "k = cv2.waitKey(0) & 0xff\n",
    "if k == 27:     \n",
    "    cv2.destroyAllWindows()'''\n",
    "images = os.listdir('./Test')\n",
    "for image in images:\n",
    "    data=[]\n",
    "    path = os.path.join('./Test',image)\n",
    "    prediction = model.predict([detect(path)])\n",
    "\n",
    "    img = cv2.imread(path)\n",
    "    img = cv2.resize(img,(500,500))\n",
    "    print(path)\n",
    "    result = (CATEGORIES[int(prediction[0][0])])\n",
    "    final = cv2.putText(img, result , (25,50) ,cv2.FONT_HERSHEY_SIMPLEX ,   1, (255, 255,255) , 2) \n",
    "    cv2.imshow('Result',final)\n",
    "\n",
    "    k = cv2.waitKey(0) & 0xff\n",
    "    if k == 27:\n",
    "        break\n",
    "cv2.destroyAllWindows()"
   ]
  },
  {
   "cell_type": "code",
   "execution_count": null,
   "metadata": {},
   "outputs": [],
   "source": []
  },
  {
   "cell_type": "code",
   "execution_count": null,
   "metadata": {},
   "outputs": [],
   "source": []
  }
 ],
 "metadata": {
  "kernelspec": {
   "display_name": "Python 3",
   "language": "python",
   "name": "python3"
  },
  "language_info": {
   "codemirror_mode": {
    "name": "ipython",
    "version": 3
   },
   "file_extension": ".py",
   "mimetype": "text/x-python",
   "name": "python",
   "nbconvert_exporter": "python",
   "pygments_lexer": "ipython3",
   "version": "3.8.1"
  }
 },
 "nbformat": 4,
 "nbformat_minor": 4
}
